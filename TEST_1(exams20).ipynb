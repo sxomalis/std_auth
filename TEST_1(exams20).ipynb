{
 "cells": [
  {
   "cell_type": "code",
   "execution_count": 2,
   "id": "277e2e28",
   "metadata": {},
   "outputs": [],
   "source": [
    "import numpy as np \n",
    "import pandas as pd \n",
    "import matplotlib.pyplot as plt\n",
    "%matplotlib inline\n",
    "import scipy.stats as st\n",
    "\n",
    "import seaborn as sn\n",
    "\n",
    "import warnings"
   ]
  },
  {
   "cell_type": "code",
   "execution_count": 3,
   "id": "9f7dab46",
   "metadata": {},
   "outputs": [
    {
     "data": {
      "text/html": [
       "<div>\n",
       "<style scoped>\n",
       "    .dataframe tbody tr th:only-of-type {\n",
       "        vertical-align: middle;\n",
       "    }\n",
       "\n",
       "    .dataframe tbody tr th {\n",
       "        vertical-align: top;\n",
       "    }\n",
       "\n",
       "    .dataframe thead th {\n",
       "        text-align: right;\n",
       "    }\n",
       "</style>\n",
       "<table border=\"1\" class=\"dataframe\">\n",
       "  <thead>\n",
       "    <tr style=\"text-align: right;\">\n",
       "      <th></th>\n",
       "      <th>gender</th>\n",
       "      <th>race/ethnicity</th>\n",
       "      <th>parental level of education</th>\n",
       "      <th>lunch</th>\n",
       "      <th>test preparation course</th>\n",
       "      <th>math score</th>\n",
       "      <th>reading score</th>\n",
       "      <th>writing score</th>\n",
       "    </tr>\n",
       "  </thead>\n",
       "  <tbody>\n",
       "    <tr>\n",
       "      <th>0</th>\n",
       "      <td>female</td>\n",
       "      <td>group B</td>\n",
       "      <td>bachelor's degree</td>\n",
       "      <td>standard</td>\n",
       "      <td>completed</td>\n",
       "      <td>90</td>\n",
       "      <td>97</td>\n",
       "      <td>96</td>\n",
       "    </tr>\n",
       "    <tr>\n",
       "      <th>1</th>\n",
       "      <td>female</td>\n",
       "      <td>group E</td>\n",
       "      <td>some high school</td>\n",
       "      <td>standard</td>\n",
       "      <td>none</td>\n",
       "      <td>65</td>\n",
       "      <td>68</td>\n",
       "      <td>60</td>\n",
       "    </tr>\n",
       "    <tr>\n",
       "      <th>2</th>\n",
       "      <td>male</td>\n",
       "      <td>group C</td>\n",
       "      <td>some high school</td>\n",
       "      <td>standard</td>\n",
       "      <td>none</td>\n",
       "      <td>67</td>\n",
       "      <td>73</td>\n",
       "      <td>68</td>\n",
       "    </tr>\n",
       "    <tr>\n",
       "      <th>3</th>\n",
       "      <td>male</td>\n",
       "      <td>group C</td>\n",
       "      <td>bachelor's degree</td>\n",
       "      <td>standard</td>\n",
       "      <td>completed</td>\n",
       "      <td>52</td>\n",
       "      <td>56</td>\n",
       "      <td>50</td>\n",
       "    </tr>\n",
       "    <tr>\n",
       "      <th>4</th>\n",
       "      <td>male</td>\n",
       "      <td>group A</td>\n",
       "      <td>some college</td>\n",
       "      <td>standard</td>\n",
       "      <td>none</td>\n",
       "      <td>77</td>\n",
       "      <td>87</td>\n",
       "      <td>87</td>\n",
       "    </tr>\n",
       "  </tbody>\n",
       "</table>\n",
       "</div>"
      ],
      "text/plain": [
       "   gender race/ethnicity parental level of education     lunch  \\\n",
       "0  female        group B           bachelor's degree  standard   \n",
       "1  female        group E            some high school  standard   \n",
       "2    male        group C            some high school  standard   \n",
       "3    male        group C           bachelor's degree  standard   \n",
       "4    male        group A                some college  standard   \n",
       "\n",
       "  test preparation course  math score  reading score  writing score  \n",
       "0               completed          90             97             96  \n",
       "1                    none          65             68             60  \n",
       "2                    none          67             73             68  \n",
       "3               completed          52             56             50  \n",
       "4                    none          77             87             87  "
      ]
     },
     "execution_count": 3,
     "metadata": {},
     "output_type": "execute_result"
    }
   ],
   "source": [
    "df = pd.read_csv(r\"C:\\Users\\sxoma\\Downloads\\exams20.csv\")\n",
    "df.head()"
   ]
  },
  {
   "cell_type": "code",
   "execution_count": 4,
   "id": "1b2123e3",
   "metadata": {},
   "outputs": [
    {
     "name": "stdout",
     "output_type": "stream",
     "text": [
      "<class 'pandas.core.frame.DataFrame'>\n",
      "RangeIndex: 20 entries, 0 to 19\n",
      "Data columns (total 8 columns):\n",
      " #   Column                       Non-Null Count  Dtype \n",
      "---  ------                       --------------  ----- \n",
      " 0   gender                       20 non-null     object\n",
      " 1   race/ethnicity               20 non-null     object\n",
      " 2   parental level of education  20 non-null     object\n",
      " 3   lunch                        20 non-null     object\n",
      " 4   test preparation course      20 non-null     object\n",
      " 5   math score                   20 non-null     int64 \n",
      " 6   reading score                20 non-null     int64 \n",
      " 7   writing score                20 non-null     int64 \n",
      "dtypes: int64(3), object(5)\n",
      "memory usage: 1.4+ KB\n"
     ]
    }
   ],
   "source": [
    "df.info()"
   ]
  },
  {
   "cell_type": "code",
   "execution_count": 5,
   "id": "ca7fdfeb",
   "metadata": {},
   "outputs": [
    {
     "data": {
      "text/html": [
       "<div>\n",
       "<style scoped>\n",
       "    .dataframe tbody tr th:only-of-type {\n",
       "        vertical-align: middle;\n",
       "    }\n",
       "\n",
       "    .dataframe tbody tr th {\n",
       "        vertical-align: top;\n",
       "    }\n",
       "\n",
       "    .dataframe thead th {\n",
       "        text-align: right;\n",
       "    }\n",
       "</style>\n",
       "<table border=\"1\" class=\"dataframe\">\n",
       "  <thead>\n",
       "    <tr style=\"text-align: right;\">\n",
       "      <th></th>\n",
       "      <th>count</th>\n",
       "      <th>mean</th>\n",
       "      <th>std</th>\n",
       "      <th>min</th>\n",
       "      <th>25%</th>\n",
       "      <th>50%</th>\n",
       "      <th>75%</th>\n",
       "      <th>max</th>\n",
       "    </tr>\n",
       "  </thead>\n",
       "  <tbody>\n",
       "    <tr>\n",
       "      <th>math score</th>\n",
       "      <td>20.0</td>\n",
       "      <td>63.80</td>\n",
       "      <td>13.276810</td>\n",
       "      <td>41.0</td>\n",
       "      <td>56.50</td>\n",
       "      <td>62.0</td>\n",
       "      <td>70.25</td>\n",
       "      <td>90.0</td>\n",
       "    </tr>\n",
       "    <tr>\n",
       "      <th>reading score</th>\n",
       "      <td>20.0</td>\n",
       "      <td>67.40</td>\n",
       "      <td>13.850328</td>\n",
       "      <td>48.0</td>\n",
       "      <td>56.75</td>\n",
       "      <td>67.5</td>\n",
       "      <td>74.75</td>\n",
       "      <td>97.0</td>\n",
       "    </tr>\n",
       "    <tr>\n",
       "      <th>writing score</th>\n",
       "      <td>20.0</td>\n",
       "      <td>65.05</td>\n",
       "      <td>14.637641</td>\n",
       "      <td>41.0</td>\n",
       "      <td>50.75</td>\n",
       "      <td>66.5</td>\n",
       "      <td>76.25</td>\n",
       "      <td>96.0</td>\n",
       "    </tr>\n",
       "  </tbody>\n",
       "</table>\n",
       "</div>"
      ],
      "text/plain": [
       "               count   mean        std   min    25%   50%    75%   max\n",
       "math score      20.0  63.80  13.276810  41.0  56.50  62.0  70.25  90.0\n",
       "reading score   20.0  67.40  13.850328  48.0  56.75  67.5  74.75  97.0\n",
       "writing score   20.0  65.05  14.637641  41.0  50.75  66.5  76.25  96.0"
      ]
     },
     "execution_count": 5,
     "metadata": {},
     "output_type": "execute_result"
    }
   ],
   "source": [
    "df.describe().T"
   ]
  },
  {
   "cell_type": "code",
   "execution_count": 6,
   "id": "94526425",
   "metadata": {},
   "outputs": [
    {
     "data": {
      "text/html": [
       "<div>\n",
       "<style scoped>\n",
       "    .dataframe tbody tr th:only-of-type {\n",
       "        vertical-align: middle;\n",
       "    }\n",
       "\n",
       "    .dataframe tbody tr th {\n",
       "        vertical-align: top;\n",
       "    }\n",
       "\n",
       "    .dataframe thead th {\n",
       "        text-align: right;\n",
       "    }\n",
       "</style>\n",
       "<table border=\"1\" class=\"dataframe\">\n",
       "  <thead>\n",
       "    <tr style=\"text-align: right;\">\n",
       "      <th></th>\n",
       "      <th>count</th>\n",
       "      <th>unique</th>\n",
       "      <th>top</th>\n",
       "      <th>freq</th>\n",
       "    </tr>\n",
       "  </thead>\n",
       "  <tbody>\n",
       "    <tr>\n",
       "      <th>gender</th>\n",
       "      <td>20</td>\n",
       "      <td>2</td>\n",
       "      <td>female</td>\n",
       "      <td>10</td>\n",
       "    </tr>\n",
       "    <tr>\n",
       "      <th>race/ethnicity</th>\n",
       "      <td>20</td>\n",
       "      <td>5</td>\n",
       "      <td>group D</td>\n",
       "      <td>7</td>\n",
       "    </tr>\n",
       "    <tr>\n",
       "      <th>parental level of education</th>\n",
       "      <td>20</td>\n",
       "      <td>5</td>\n",
       "      <td>some high school</td>\n",
       "      <td>5</td>\n",
       "    </tr>\n",
       "    <tr>\n",
       "      <th>lunch</th>\n",
       "      <td>20</td>\n",
       "      <td>2</td>\n",
       "      <td>standard</td>\n",
       "      <td>15</td>\n",
       "    </tr>\n",
       "    <tr>\n",
       "      <th>test preparation course</th>\n",
       "      <td>20</td>\n",
       "      <td>2</td>\n",
       "      <td>none</td>\n",
       "      <td>12</td>\n",
       "    </tr>\n",
       "  </tbody>\n",
       "</table>\n",
       "</div>"
      ],
      "text/plain": [
       "                            count unique               top freq\n",
       "gender                         20      2            female   10\n",
       "race/ethnicity                 20      5           group D    7\n",
       "parental level of education    20      5  some high school    5\n",
       "lunch                          20      2          standard   15\n",
       "test preparation course        20      2              none   12"
      ]
     },
     "execution_count": 6,
     "metadata": {},
     "output_type": "execute_result"
    }
   ],
   "source": [
    "df.describe(include =\"object\").T"
   ]
  },
  {
   "cell_type": "code",
   "execution_count": 7,
   "id": "b2ba09fc",
   "metadata": {},
   "outputs": [
    {
     "data": {
      "text/html": [
       "<div>\n",
       "<style scoped>\n",
       "    .dataframe tbody tr th:only-of-type {\n",
       "        vertical-align: middle;\n",
       "    }\n",
       "\n",
       "    .dataframe tbody tr th {\n",
       "        vertical-align: top;\n",
       "    }\n",
       "\n",
       "    .dataframe thead th {\n",
       "        text-align: right;\n",
       "    }\n",
       "</style>\n",
       "<table border=\"1\" class=\"dataframe\">\n",
       "  <thead>\n",
       "    <tr style=\"text-align: right;\">\n",
       "      <th></th>\n",
       "      <th>math score</th>\n",
       "      <th>reading score</th>\n",
       "      <th>writing score</th>\n",
       "    </tr>\n",
       "  </thead>\n",
       "  <tbody>\n",
       "    <tr>\n",
       "      <th>count</th>\n",
       "      <td>20.00000</td>\n",
       "      <td>20.000000</td>\n",
       "      <td>20.000000</td>\n",
       "    </tr>\n",
       "    <tr>\n",
       "      <th>mean</th>\n",
       "      <td>63.80000</td>\n",
       "      <td>67.400000</td>\n",
       "      <td>65.050000</td>\n",
       "    </tr>\n",
       "    <tr>\n",
       "      <th>std</th>\n",
       "      <td>13.27681</td>\n",
       "      <td>13.850328</td>\n",
       "      <td>14.637641</td>\n",
       "    </tr>\n",
       "    <tr>\n",
       "      <th>min</th>\n",
       "      <td>41.00000</td>\n",
       "      <td>48.000000</td>\n",
       "      <td>41.000000</td>\n",
       "    </tr>\n",
       "    <tr>\n",
       "      <th>25%</th>\n",
       "      <td>56.50000</td>\n",
       "      <td>56.750000</td>\n",
       "      <td>50.750000</td>\n",
       "    </tr>\n",
       "    <tr>\n",
       "      <th>50%</th>\n",
       "      <td>62.00000</td>\n",
       "      <td>67.500000</td>\n",
       "      <td>66.500000</td>\n",
       "    </tr>\n",
       "    <tr>\n",
       "      <th>75%</th>\n",
       "      <td>70.25000</td>\n",
       "      <td>74.750000</td>\n",
       "      <td>76.250000</td>\n",
       "    </tr>\n",
       "    <tr>\n",
       "      <th>max</th>\n",
       "      <td>90.00000</td>\n",
       "      <td>97.000000</td>\n",
       "      <td>96.000000</td>\n",
       "    </tr>\n",
       "  </tbody>\n",
       "</table>\n",
       "</div>"
      ],
      "text/plain": [
       "       math score  reading score  writing score\n",
       "count    20.00000      20.000000      20.000000\n",
       "mean     63.80000      67.400000      65.050000\n",
       "std      13.27681      13.850328      14.637641\n",
       "min      41.00000      48.000000      41.000000\n",
       "25%      56.50000      56.750000      50.750000\n",
       "50%      62.00000      67.500000      66.500000\n",
       "75%      70.25000      74.750000      76.250000\n",
       "max      90.00000      97.000000      96.000000"
      ]
     },
     "execution_count": 7,
     "metadata": {},
     "output_type": "execute_result"
    }
   ],
   "source": [
    "df.describe()"
   ]
  },
  {
   "cell_type": "code",
   "execution_count": 8,
   "id": "9e66239c",
   "metadata": {},
   "outputs": [
    {
     "name": "stdout",
     "output_type": "stream",
     "text": [
      "gender: ['female' 'male']\n",
      "\n",
      "race/ethnicity: ['group B' 'group E' 'group C' 'group A' 'group D']\n",
      "\n",
      "parental level of education: [\"bachelor's degree\" 'some high school' 'some college'\n",
      " \"associate's degree\" 'high school']\n",
      "\n",
      "lunch: ['standard' 'free/reduced']\n",
      "\n",
      "test preparation course: ['completed' 'none']\n",
      "\n",
      "math score: [90 65 67 52 77 59 55 43 71 60 41 88 81 63 49 70 61 57]\n",
      "\n",
      "reading score: [97 68 73 56 87 48 84 50 64 71 57 60 80 67]\n",
      "\n",
      "writing score: [96 60 68 50 87 71 48 59 77 46 41 76 65 62 51 79 70]\n",
      "\n"
     ]
    }
   ],
   "source": [
    "for col in df.columns:\n",
    "    print(\n",
    "        f\"{col}: {df[col].unique()}\",\n",
    "        end='\\n\\n'\n",
    "        )"
   ]
  },
  {
   "cell_type": "code",
   "execution_count": 9,
   "id": "c9760d8e",
   "metadata": {},
   "outputs": [
    {
     "data": {
      "text/plain": [
       "0     90\n",
       "1     65\n",
       "2     67\n",
       "3     52\n",
       "4     77\n",
       "5     59\n",
       "6     55\n",
       "7     43\n",
       "8     71\n",
       "9     60\n",
       "10    41\n",
       "11    60\n",
       "12    88\n",
       "13    81\n",
       "14    63\n",
       "15    49\n",
       "16    67\n",
       "17    70\n",
       "18    61\n",
       "19    57\n",
       "Name: math score, dtype: int64"
      ]
     },
     "execution_count": 9,
     "metadata": {},
     "output_type": "execute_result"
    }
   ],
   "source": [
    "dfm = df['math score']\n",
    "dfm"
   ]
  },
  {
   "cell_type": "code",
   "execution_count": 10,
   "id": "ca72e7f8",
   "metadata": {},
   "outputs": [
    {
     "data": {
      "text/plain": [
       "count    20.00000\n",
       "mean     63.80000\n",
       "std      13.27681\n",
       "min      41.00000\n",
       "25%      56.50000\n",
       "50%      62.00000\n",
       "75%      70.25000\n",
       "max      90.00000\n",
       "Name: math score, dtype: float64"
      ]
     },
     "execution_count": 10,
     "metadata": {},
     "output_type": "execute_result"
    }
   ],
   "source": [
    "dfm.describe()"
   ]
  },
  {
   "cell_type": "code",
   "execution_count": 11,
   "id": "e5b8cb29",
   "metadata": {},
   "outputs": [
    {
     "data": {
      "text/plain": [
       "(63.8,\n",
       " 62.0,\n",
       " 0    60\n",
       " 1    67\n",
       " Name: math score, dtype: int64)"
      ]
     },
     "execution_count": 11,
     "metadata": {},
     "output_type": "execute_result"
    }
   ],
   "source": [
    "dfm.mean(),  dfm.median() ,dfm.mode()"
   ]
  },
  {
   "cell_type": "code",
   "execution_count": 12,
   "id": "ee68c0d9",
   "metadata": {},
   "outputs": [
    {
     "data": {
      "text/plain": [
       "<matplotlib.collections.LineCollection at 0x18f2a90c5e0>"
      ]
     },
     "execution_count": 12,
     "metadata": {},
     "output_type": "execute_result"
    },
    {
     "data": {
      "image/png": "[encoded data removed]",
      "text/plain": [
       "<Figure size 640x480 with 2 Axes>"
      ]
     },
     "metadata": {},
     "output_type": "display_data"
    }
   ],
   "source": [
    "dfm.plot(kind='hist', bins=20, color='blue')\n",
    "\n",
    "dfm.plot(kind='kde', secondary_y=True, color='red')\n",
    "\n",
    "plt.vlines(dfm.mean(),ymin=0,ymax=0.03,linewidth=1.5,color='yellow')"
   ]
  },
  {
   "cell_type": "code",
   "execution_count": 13,
   "id": "b0d963b4",
   "metadata": {},
   "outputs": [
    {
     "data": {
      "text/plain": [
       "min       41.00000\n",
       "max       90.00000\n",
       "mean      63.80000\n",
       "median    62.00000\n",
       "std       13.27681\n",
       "_range    49.00000\n",
       "Name: math score, dtype: float64"
      ]
     },
     "execution_count": 13,
     "metadata": {},
     "output_type": "execute_result"
    }
   ],
   "source": [
    "def _range(series):\n",
    "    return series.max()-series.min()\n",
    "\n",
    "dfm.agg(['min','max','mean','median','std', _range])"
   ]
  },
  {
   "cell_type": "code",
   "execution_count": 14,
   "id": "054ceb50",
   "metadata": {},
   "outputs": [
    {
     "data": {
      "text/plain": [
       "176.27368421052634"
      ]
     },
     "execution_count": 14,
     "metadata": {},
     "output_type": "execute_result"
    }
   ],
   "source": [
    "#diakimansi\n",
    "\n",
    "\n",
    "dfm.var()"
   ]
  },
  {
   "cell_type": "code",
   "execution_count": 15,
   "id": "23b6fc7a",
   "metadata": {},
   "outputs": [
    {
     "data": {
      "text/plain": [
       "13.276810016360344"
      ]
     },
     "execution_count": 15,
     "metadata": {},
     "output_type": "execute_result"
    }
   ],
   "source": [
    "dfm.std()"
   ]
  },
  {
   "cell_type": "code",
   "execution_count": 16,
   "id": "ba097729",
   "metadata": {},
   "outputs": [
    {
     "data": {
      "text/plain": [
       "12.9406336784564"
      ]
     },
     "execution_count": 16,
     "metadata": {},
     "output_type": "execute_result"
    }
   ],
   "source": [
    "dfm.std(ddof=0)"
   ]
  },
  {
   "cell_type": "code",
   "execution_count": 17,
   "id": "c0318029",
   "metadata": {},
   "outputs": [
    {
     "data": {
      "text/plain": [
       "True"
      ]
     },
     "execution_count": 17,
     "metadata": {},
     "output_type": "execute_result"
    }
   ],
   "source": [
    "dfm.std() ==np.sqrt(dfm.var())"
   ]
  },
  {
   "cell_type": "code",
   "execution_count": 18,
   "id": "e0b06a65",
   "metadata": {},
   "outputs": [
    {
     "data": {
      "text/plain": [
       "<Axes: >"
      ]
     },
     "execution_count": 18,
     "metadata": {},
     "output_type": "execute_result"
    },
    {
     "data": {
      "image/png": "[encoded data removed]",
      "text/plain": [
       "<Figure size 640x480 with 1 Axes>"
      ]
     },
     "metadata": {},
     "output_type": "display_data"
    }
   ],
   "source": [
    "dfm.plot(kind = 'box', grid=True)"
   ]
  },
  {
   "cell_type": "code",
   "execution_count": 19,
   "id": "b4d4ca69",
   "metadata": {},
   "outputs": [
    {
     "data": {
      "text/plain": [
       "0.33107627235481607"
      ]
     },
     "execution_count": 19,
     "metadata": {},
     "output_type": "execute_result"
    }
   ],
   "source": [
    "dfm.skew()"
   ]
  },
  {
   "cell_type": "code",
   "execution_count": 20,
   "id": "6003ff76",
   "metadata": {},
   "outputs": [
    {
     "name": "stderr",
     "output_type": "stream",
     "text": [
      "C:\\Users\\sxoma\\AppData\\Local\\Temp\\ipykernel_21208\\1134722465.py:1: FutureWarning: The default value of numeric_only in DataFrame.corr is deprecated. In a future version, it will default to False. Select only valid columns or specify the value of numeric_only to silence this warning.\n",
      "  df.corr()\n"
     ]
    },
    {
     "data": {
      "text/html": [
       "<div>\n",
       "<style scoped>\n",
       "    .dataframe tbody tr th:only-of-type {\n",
       "        vertical-align: middle;\n",
       "    }\n",
       "\n",
       "    .dataframe tbody tr th {\n",
       "        vertical-align: top;\n",
       "    }\n",
       "\n",
       "    .dataframe thead th {\n",
       "        text-align: right;\n",
       "    }\n",
       "</style>\n",
       "<table border=\"1\" class=\"dataframe\">\n",
       "  <thead>\n",
       "    <tr style=\"text-align: right;\">\n",
       "      <th></th>\n",
       "      <th>math score</th>\n",
       "      <th>reading score</th>\n",
       "      <th>writing score</th>\n",
       "    </tr>\n",
       "  </thead>\n",
       "  <tbody>\n",
       "    <tr>\n",
       "      <th>math score</th>\n",
       "      <td>1.000000</td>\n",
       "      <td>0.803864</td>\n",
       "      <td>0.687667</td>\n",
       "    </tr>\n",
       "    <tr>\n",
       "      <th>reading score</th>\n",
       "      <td>0.803864</td>\n",
       "      <td>1.000000</td>\n",
       "      <td>0.933960</td>\n",
       "    </tr>\n",
       "    <tr>\n",
       "      <th>writing score</th>\n",
       "      <td>0.687667</td>\n",
       "      <td>0.933960</td>\n",
       "      <td>1.000000</td>\n",
       "    </tr>\n",
       "  </tbody>\n",
       "</table>\n",
       "</div>"
      ],
      "text/plain": [
       "               math score  reading score  writing score\n",
       "math score       1.000000       0.803864       0.687667\n",
       "reading score    0.803864       1.000000       0.933960\n",
       "writing score    0.687667       0.933960       1.000000"
      ]
     },
     "execution_count": 20,
     "metadata": {},
     "output_type": "execute_result"
    }
   ],
   "source": [
    "df.corr()"
   ]
  },
  {
   "cell_type": "code",
   "execution_count": 22,
   "id": "d8af21b6",
   "metadata": {},
   "outputs": [
    {
     "data": {
      "text/plain": [
       "<seaborn.axisgrid.PairGrid at 0x18f2aaab940>"
      ]
     },
     "execution_count": 22,
     "metadata": {},
     "output_type": "execute_result"
    },
    {
     "data": {
      "image/png": "[encoded data removed]",
      "text/plain": [
       "<Figure size 600.736x500 with 6 Axes>"
      ]
     },
     "metadata": {},
     "output_type": "display_data"
    }
   ],
   "source": [
    "import seaborn as sns\n",
    "sns.pairplot(df, hue='writing score')"
   ]
  },
  {
   "cell_type": "markdown",
   "id": "10439c1b",
   "metadata": {},
   "source": [
    "#elego t- test"
   ]
  },
  {
   "cell_type": "code",
   "execution_count": 21,
   "id": "fdb2bb3e",
   "metadata": {},
   "outputs": [
    {
     "name": "stdout",
     "output_type": "stream",
     "text": [
      "<class 'pandas.core.frame.DataFrame'>\n",
      "Int64Index: 12 entries, 1 to 16\n",
      "Data columns (total 8 columns):\n",
      " #   Column                       Non-Null Count  Dtype \n",
      "---  ------                       --------------  ----- \n",
      " 0   gender                       12 non-null     object\n",
      " 1   race/ethnicity               12 non-null     object\n",
      " 2   parental level of education  12 non-null     object\n",
      " 3   lunch                        12 non-null     object\n",
      " 4   test preparation course      12 non-null     object\n",
      " 5   math score                   12 non-null     int64 \n",
      " 6   reading score                12 non-null     int64 \n",
      " 7   writing score                12 non-null     int64 \n",
      "dtypes: int64(3), object(5)\n",
      "memory usage: 864.0+ bytes\n"
     ]
    }
   ],
   "source": [
    "no_course = df[df['test preparation course']=='none']\n",
    "no_course.info()"
   ]
  },
  {
   "cell_type": "code",
   "execution_count": 22,
   "id": "bae61e71",
   "metadata": {},
   "outputs": [
    {
     "name": "stdout",
     "output_type": "stream",
     "text": [
      "<class 'pandas.core.frame.DataFrame'>\n",
      "Int64Index: 8 entries, 0 to 19\n",
      "Data columns (total 8 columns):\n",
      " #   Column                       Non-Null Count  Dtype \n",
      "---  ------                       --------------  ----- \n",
      " 0   gender                       8 non-null      object\n",
      " 1   race/ethnicity               8 non-null      object\n",
      " 2   parental level of education  8 non-null      object\n",
      " 3   lunch                        8 non-null      object\n",
      " 4   test preparation course      8 non-null      object\n",
      " 5   math score                   8 non-null      int64 \n",
      " 6   reading score                8 non-null      int64 \n",
      " 7   writing score                8 non-null      int64 \n",
      "dtypes: int64(3), object(5)\n",
      "memory usage: 576.0+ bytes\n"
     ]
    }
   ],
   "source": [
    "completed_course = df[df['test preparation course']=='completed']\n",
    "completed_course.info()"
   ]
  },
  {
   "cell_type": "code",
   "execution_count": null,
   "id": "617ad540",
   "metadata": {},
   "outputs": [],
   "source": []
  },
  {
   "cell_type": "code",
   "execution_count": 23,
   "id": "3617b277",
   "metadata": {},
   "outputs": [
    {
     "data": {
      "text/plain": [
       "(63.833333333333336, 63.75, 0.0833333333333357)"
      ]
     },
     "execution_count": 23,
     "metadata": {},
     "output_type": "execute_result"
    }
   ],
   "source": [
    "mc = no_course['math score'].mean()\n",
    "mt = completed_course['math score'].mean()\n",
    "mc, mt , mc-mt"
   ]
  },
  {
   "cell_type": "markdown",
   "id": "3e12c41a",
   "metadata": {},
   "source": [
    "Το t-test έδειξε ένα p-value περίπου 0.989, που υποδηλώνει πως δεν υπάρχει στατιστικά σημαντική διαφορά στους μαθηματικούς βαθμούς μεταξύ των δύο ομάδων μαθητών (αυτών που έχουν και δεν έχουν ολοκληρώσει το μάθημα προετοιμασίας). Αυτό σημαίνει ότι το μάθημα προετοιμασίας, βάσει αυτού του dataset, δε φαίνεται να έχει σημαντικό αντίκτυπο στις επιδόσεις των μαθητών στα μαθηματικά."
   ]
  },
  {
   "cell_type": "code",
   "execution_count": 24,
   "id": "6f38f6b0",
   "metadata": {},
   "outputs": [
    {
     "data": {
      "text/plain": [
       "(0.013384656964236007, 0.9894681456891279)"
      ]
     },
     "execution_count": 24,
     "metadata": {},
     "output_type": "execute_result"
    }
   ],
   "source": [
    "import scipy.stats as st \n",
    "\n",
    "t, p =st.ttest_ind(no_course['math score'], completed_course['math score'])\n",
    "t , p"
   ]
  },
  {
   "cell_type": "markdown",
   "id": "4f763c91",
   "metadata": {},
   "source": [
    "#shapiro(den xreiazetai)"
   ]
  },
  {
   "cell_type": "code",
   "execution_count": 26,
   "id": "5226634a",
   "metadata": {},
   "outputs": [
    {
     "data": {
      "text/plain": [
       "(0.9650967121124268, 0.853316605091095)"
      ]
     },
     "execution_count": 26,
     "metadata": {},
     "output_type": "execute_result"
    }
   ],
   "source": [
    "t, p =st.shapiro(no_course['math score'])\n",
    "t , p"
   ]
  },
  {
   "cell_type": "code",
   "execution_count": 27,
   "id": "f1fd9bf5",
   "metadata": {},
   "outputs": [
    {
     "data": {
      "text/plain": [
       "(0.9131144881248474, 0.37651750445365906)"
      ]
     },
     "execution_count": 27,
     "metadata": {},
     "output_type": "execute_result"
    }
   ],
   "source": [
    "t, p =st.shapiro(completed_course['math score'])\n",
    "t , p"
   ]
  },
  {
   "cell_type": "code",
   "execution_count": null,
   "id": "599b05f5",
   "metadata": {},
   "outputs": [],
   "source": []
  },
  {
   "cell_type": "code",
   "execution_count": 28,
   "id": "cfce8fbe",
   "metadata": {},
   "outputs": [
    {
     "data": {
      "text/plain": [
       "-0.011416904009050308"
      ]
     },
     "execution_count": 28,
     "metadata": {},
     "output_type": "execute_result"
    }
   ],
   "source": [
    "no_course['math score'].skew()"
   ]
  },
  {
   "cell_type": "markdown",
   "id": "62cd7389",
   "metadata": {},
   "source": [
    "#diakimansi\n",
    "ta deigmata proerxontai apo plithismous me idia diakimansi"
   ]
  },
  {
   "cell_type": "code",
   "execution_count": 29,
   "id": "b623b728",
   "metadata": {},
   "outputs": [
    {
     "data": {
      "text/plain": [
       "(0.06906572823248959, 0.7956864005795463)"
      ]
     },
     "execution_count": 29,
     "metadata": {},
     "output_type": "execute_result"
    }
   ],
   "source": [
    "t, p =st.levene(no_course['math score'],completed_course['math score'])\n",
    "t , p"
   ]
  },
  {
   "cell_type": "markdown",
   "id": "fa0ec52b",
   "metadata": {},
   "source": [
    "#ισχυει το levene"
   ]
  },
  {
   "cell_type": "code",
   "execution_count": 30,
   "id": "37d86aa6",
   "metadata": {},
   "outputs": [],
   "source": [
    "#den aporiptete i mideniki"
   ]
  },
  {
   "cell_type": "markdown",
   "id": "d57153a7",
   "metadata": {},
   "source": [
    "#mann-whitney"
   ]
  },
  {
   "cell_type": "code",
   "execution_count": 31,
   "id": "b54c6264",
   "metadata": {},
   "outputs": [
    {
     "data": {
      "text/plain": [
       "(49.5, 0.9384566860091016)"
      ]
     },
     "execution_count": 31,
     "metadata": {},
     "output_type": "execute_result"
    }
   ],
   "source": [
    "t , p =st.mannwhitneyu(no_course['math score'],completed_course['math score'])\n",
    "t, p"
   ]
  },
  {
   "cell_type": "markdown",
   "id": "17713059",
   "metadata": {},
   "source": [
    "#welch δεν χρειάζεται μη παραμετρικός)\n"
   ]
  },
  {
   "cell_type": "code",
   "execution_count": 32,
   "id": "185a46e9",
   "metadata": {},
   "outputs": [
    {
     "data": {
      "text/plain": [
       "(0.013563837705532598, 0.9893474268429093)"
      ]
     },
     "execution_count": 32,
     "metadata": {},
     "output_type": "execute_result"
    }
   ],
   "source": [
    "import scipy.stats as st\n",
    "t , p =st.ttest_ind(no_course['math score'],completed_course['math score'],equal_var=False)\n",
    "t, p"
   ]
  },
  {
   "cell_type": "markdown",
   "id": "337450c8",
   "metadata": {},
   "source": [
    "# correlation\n"
   ]
  },
  {
   "cell_type": "code",
   "execution_count": 122,
   "id": "2963a194",
   "metadata": {},
   "outputs": [
    {
     "name": "stderr",
     "output_type": "stream",
     "text": [
      "C:\\Users\\sxoma\\AppData\\Local\\Temp\\ipykernel_26628\\1134722465.py:1: FutureWarning: The default value of numeric_only in DataFrame.corr is deprecated. In a future version, it will default to False. Select only valid columns or specify the value of numeric_only to silence this warning.\n",
      "  df.corr()\n"
     ]
    },
    {
     "data": {
      "text/html": [
       "<div>\n",
       "<style scoped>\n",
       "    .dataframe tbody tr th:only-of-type {\n",
       "        vertical-align: middle;\n",
       "    }\n",
       "\n",
       "    .dataframe tbody tr th {\n",
       "        vertical-align: top;\n",
       "    }\n",
       "\n",
       "    .dataframe thead th {\n",
       "        text-align: right;\n",
       "    }\n",
       "</style>\n",
       "<table border=\"1\" class=\"dataframe\">\n",
       "  <thead>\n",
       "    <tr style=\"text-align: right;\">\n",
       "      <th></th>\n",
       "      <th>math score</th>\n",
       "      <th>reading score</th>\n",
       "      <th>writing score</th>\n",
       "    </tr>\n",
       "  </thead>\n",
       "  <tbody>\n",
       "    <tr>\n",
       "      <th>math score</th>\n",
       "      <td>1.000000</td>\n",
       "      <td>0.803864</td>\n",
       "      <td>0.687667</td>\n",
       "    </tr>\n",
       "    <tr>\n",
       "      <th>reading score</th>\n",
       "      <td>0.803864</td>\n",
       "      <td>1.000000</td>\n",
       "      <td>0.933960</td>\n",
       "    </tr>\n",
       "    <tr>\n",
       "      <th>writing score</th>\n",
       "      <td>0.687667</td>\n",
       "      <td>0.933960</td>\n",
       "      <td>1.000000</td>\n",
       "    </tr>\n",
       "  </tbody>\n",
       "</table>\n",
       "</div>"
      ],
      "text/plain": [
       "               math score  reading score  writing score\n",
       "math score       1.000000       0.803864       0.687667\n",
       "reading score    0.803864       1.000000       0.933960\n",
       "writing score    0.687667       0.933960       1.000000"
      ]
     },
     "execution_count": 122,
     "metadata": {},
     "output_type": "execute_result"
    }
   ],
   "source": [
    "df.corr()"
   ]
  },
  {
   "cell_type": "code",
   "execution_count": 123,
   "id": "4b587919",
   "metadata": {},
   "outputs": [
    {
     "data": {
      "text/plain": [
       "<seaborn.axisgrid.PairGrid at 0x1665910ded0>"
      ]
     },
     "execution_count": 123,
     "metadata": {},
     "output_type": "execute_result"
    },
    {
     "data": {
      "image/png": "[encoded data removed]",
      "text/plain": [
       "<Figure size 750x750 with 12 Axes>"
      ]
     },
     "metadata": {},
     "output_type": "display_data"
    }
   ],
   "source": [
    "\n",
    "sn.pairplot(df)"
   ]
  },
  {
   "cell_type": "code",
   "execution_count": null,
   "id": "363788e8",
   "metadata": {},
   "outputs": [],
   "source": [
    "\n"
   ]
  },
  {
   "cell_type": "code",
   "execution_count": 130,
   "id": "2405bcbb",
   "metadata": {},
   "outputs": [
    {
     "name": "stdout",
     "output_type": "stream",
     "text": [
      "Length of 'reading': 14\n",
      "Length of 'math': 18\n",
      "slope = 0.6331\n",
      "intercept = 21.6418\n",
      "rvalue = 0.6017\n",
      "pvalue = 0.0228\n",
      "stderr = 0.2426\n"
     ]
    }
   ],
   "source": [
    "#fit a linear regression model with Scipy\n",
    "\n",
    "import scipy.stats as st\n",
    "\n",
    "# Assuming you have already defined reading and math as lists or NumPy arrays\n",
    "print(\"Length of 'reading':\", len(reading))\n",
    "print(\"Length of 'math':\", len(math))\n",
    "\n",
    "# Ensuring both arrays have the same length before running the regression\n",
    "if len(reading) > len(math):\n",
    "    reading = reading[:len(math)]\n",
    "elif len(math) > len(reading):\n",
    "    math = math[:len(reading)]\n",
    "\n",
    "# Fit the linear regression model\n",
    "model = st.linregress(x=reading, y=math)\n",
    "\n",
    "# Print the results\n",
    "print(f'slope = {round(model.slope,4)}')\n",
    "print(f'intercept = {round(model.intercept,4)}')\n",
    "print(f'rvalue = {round(model.rvalue,4)}')\n",
    "print(f'pvalue = {round(model.pvalue,4)}')\n",
    "print(f'stderr = {round(model.stderr,4)}')\n"
   ]
  },
  {
   "cell_type": "code",
   "execution_count": null,
   "id": "3c48c0f1",
   "metadata": {},
   "outputs": [],
   "source": []
  }
 ],
 "metadata": {
  "kernelspec": {
   "display_name": "Python 3 (ipykernel)",
   "language": "python",
   "name": "python3"
  },
  "language_info": {
   "codemirror_mode": {
    "name": "ipython",
    "version": 3
   },
   "file_extension": ".py",
   "mimetype": "text/x-python",
   "name": "python",
   "nbconvert_exporter": "python",
   "pygments_lexer": "ipython3",
   "version": "3.10.9"
  }
 },
 "nbformat": 4,
 "nbformat_minor": 5
}
